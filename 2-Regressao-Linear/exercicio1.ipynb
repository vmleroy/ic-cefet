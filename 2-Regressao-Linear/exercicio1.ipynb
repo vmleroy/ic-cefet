{
 "cells": [
  {
   "cell_type": "markdown",
   "metadata": {},
   "source": [
    "# Exercicio 1\n",
    "* Arthur Severo\n",
    "* Victor Le Roy"
   ]
  },
  {
   "cell_type": "code",
   "execution_count": 1,
   "metadata": {},
   "outputs": [],
   "source": [
    "import pandas as pd\n",
    "import numpy as np\n",
    "import matplotlib.pyplot as plt"
   ]
  },
  {
   "cell_type": "markdown",
   "metadata": {},
   "source": [
    "**1. Coletando os dados**"
   ]
  },
  {
   "cell_type": "code",
   "execution_count": 3,
   "metadata": {},
   "outputs": [
    {
     "name": "stdout",
     "output_type": "stream",
     "text": [
      "    City Pop.    Profit\n",
      "0      6.1101  17.59200\n",
      "1      5.5277   9.13020\n",
      "2      8.5186  13.66200\n",
      "3      7.0032  11.85400\n",
      "4      5.8598   6.82330\n",
      "..        ...       ...\n",
      "92     5.8707   7.20290\n",
      "93     5.3054   1.98690\n",
      "94     8.2934   0.14454\n",
      "95    13.3940   9.05510\n",
      "96     5.4369   0.61705\n",
      "\n",
      "[97 rows x 2 columns]\n"
     ]
    }
   ],
   "source": [
    "df = pd.read_csv('data1.txt', sep=',', header=None, names=['City Pop.', 'Profit'])\n",
    "city_pop = df[\"City Pop.\"].values\n",
    "profit = df[\"Profit\"].values"
   ]
  },
  {
   "cell_type": "markdown",
   "metadata": {},
   "source": [
    "**2 - Plotando gráfico**"
   ]
  },
  {
   "cell_type": "code",
   "execution_count": 8,
   "metadata": {},
   "outputs": [
    {
     "ename": "TypeError",
     "evalue": "scatter() got multiple values for argument 'x'",
     "output_type": "error",
     "traceback": [
      "\u001b[1;31m---------------------------------------------------------------------------\u001b[0m",
      "\u001b[1;31mTypeError\u001b[0m                                 Traceback (most recent call last)",
      "Cell \u001b[1;32mIn[8], line 1\u001b[0m\n\u001b[1;32m----> 1\u001b[0m plt\u001b[39m.\u001b[39;49mscatter(city_pop, profit, x\u001b[39m=\u001b[39;49m\u001b[39m'\u001b[39;49m\u001b[39mCity Pop.\u001b[39;49m\u001b[39m'\u001b[39;49m, y\u001b[39m=\u001b[39;49m\u001b[39m'\u001b[39;49m\u001b[39mProfit\u001b[39;49m\u001b[39m'\u001b[39;49m, c\u001b[39m=\u001b[39;49m\u001b[39m'\u001b[39;49m\u001b[39mred\u001b[39;49m\u001b[39m'\u001b[39;49m, marker\u001b[39m=\u001b[39;49m\u001b[39m'\u001b[39;49m\u001b[39mx\u001b[39;49m\u001b[39m'\u001b[39;49m)\n",
      "\u001b[1;31mTypeError\u001b[0m: scatter() got multiple values for argument 'x'"
     ]
    }
   ],
   "source": [
    "plt.scatter(city_pop, profit, marker='x', c='r')\n",
    "plt.xlabel('City Population')\n",
    "plt.ylabel('Profit')"
   ]
  }
 ],
 "metadata": {
  "kernelspec": {
   "display_name": "Python 3",
   "language": "python",
   "name": "python3"
  },
  "language_info": {
   "codemirror_mode": {
    "name": "ipython",
    "version": 3
   },
   "file_extension": ".py",
   "mimetype": "text/x-python",
   "name": "python",
   "nbconvert_exporter": "python",
   "pygments_lexer": "ipython3",
   "version": "3.11.4"
  },
  "orig_nbformat": 4
 },
 "nbformat": 4,
 "nbformat_minor": 2
}
